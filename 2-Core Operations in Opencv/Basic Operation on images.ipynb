{
 "cells": [
  {
   "cell_type": "markdown",
   "metadata": {},
   "source": [
    "## Accessing and Modifying pixel values"
   ]
  },
  {
   "cell_type": "code",
   "execution_count": 7,
   "metadata": {},
   "outputs": [
    {
     "name": "stdout",
     "output_type": "stream",
     "text": [
      "[[[ 5  9 10]\n",
      "  [ 5  9 10]\n",
      "  [ 5  9 10]\n",
      "  ...\n",
      "  [ 6  9 14]\n",
      "  [ 6  9 14]\n",
      "  [ 6  9 14]]\n",
      "\n",
      " [[ 5  9 10]\n",
      "  [ 5  9 10]\n",
      "  [ 5  9 10]\n",
      "  ...\n",
      "  [ 6  9 14]\n",
      "  [ 6  9 14]\n",
      "  [ 6  9 14]]\n",
      "\n",
      " [[ 5  9 10]\n",
      "  [ 5  9 10]\n",
      "  [ 5  9 10]\n",
      "  ...\n",
      "  [ 6  9 14]\n",
      "  [ 6  9 14]\n",
      "  [ 6  9 14]]\n",
      "\n",
      " ...\n",
      "\n",
      " [[29 51 62]\n",
      "  [29 51 62]\n",
      "  [30 52 63]\n",
      "  ...\n",
      "  [32 37 52]\n",
      "  [32 37 52]\n",
      "  [32 37 52]]\n",
      "\n",
      " [[27 53 65]\n",
      "  [28 54 66]\n",
      "  [30 55 65]\n",
      "  ...\n",
      "  [32 37 52]\n",
      "  [32 37 52]\n",
      "  [32 37 52]]\n",
      "\n",
      " [[28 56 67]\n",
      "  [28 56 67]\n",
      "  [30 57 67]\n",
      "  ...\n",
      "  [32 37 52]\n",
      "  [32 37 52]\n",
      "  [32 37 52]]]\n",
      "[ 5  9 10]\n"
     ]
    }
   ],
   "source": [
    "import numpy as np\n",
    "import cv2\n",
    "\n",
    "imgpath = \"C:\\\\Users\\\\Aung Thiha\\\\imagesforcv2\\\\messi.jpg\"\n",
    "img = cv2.imread(imgpath)\n",
    "\n",
    "#img [ index number , row , column ]\n",
    "#img [ index number , row  ]\n",
    "print(img)\n",
    "print(img[0,1])"
   ]
  },
  {
   "cell_type": "markdown",
   "metadata": {},
   "source": [
    "## Accessing Image Properties"
   ]
  },
  {
   "cell_type": "code",
   "execution_count": 2,
   "metadata": {},
   "outputs": [
    {
     "name": "stdout",
     "output_type": "stream",
     "text": [
      "(168, 300, 3)\n",
      "168\n",
      "151200\n",
      "151200\n",
      "uint8\n"
     ]
    }
   ],
   "source": [
    "import numpy as np\n",
    "import cv2\n",
    "\n",
    "imgpath = \"C:\\\\Users\\\\Aung Thiha\\\\imagesforcv2\\\\messi.jpg\"\n",
    "img = cv2.imread(imgpath)\n",
    "\n",
    "# img.shape returns tuple > (Height(no of pixel rows) , Width(no of pixel cols) , Number of Channels(colors-RGB etc...)) and it gets dimensions of image\n",
    "print(img.shape)\n",
    "\n",
    "# number of pixels = number of rows * number of columns * number of channels\n",
    "# get total number of pixels\n",
    "print(168*300*3)\n",
    "print(img.size)\n",
    "\n",
    "# get data type of image\n",
    "print(img.dtype)"
   ]
  },
  {
   "cell_type": "markdown",
   "metadata": {},
   "source": [
    "## Making Borders for Images (Padding)"
   ]
  },
  {
   "cell_type": "code",
   "execution_count": 32,
   "metadata": {},
   "outputs": [
    {
     "data": {
      "image/png": "[encoded data removed]",
      "text/plain": [
       "<Figure size 432x288 with 1 Axes>"
      ]
     },
     "metadata": {
      "needs_background": "light"
     },
     "output_type": "display_data"
    }
   ],
   "source": [
    "import numpy as np\n",
    "import cv2\n",
    "import matplotlib.pyplot as plt\n",
    "\n",
    "imgpath = \"C:\\\\Users\\\\Aung Thiha\\\\imagesforcv2\\\\messi.jpg\"\n",
    "img = cv2.imread(imgpath)\n",
    "\n",
    "BLUE = [0,0,255]\n",
    "GREEN = [0,255,0]\n",
    "RED = [255,0,0]\n",
    "\n",
    "# to create a border around the image\n",
    "constant= cv2.copyMakeBorder(img,100,100,10,10,cv2.BORDER_CONSTANT,value=GREEN)\n",
    "\n",
    "plt.subplot(236),plt.imshow(constant,'gray'),plt.title('CONSTANT')\n",
    "\n",
    "plt.show()"
   ]
  }
 ],
 "metadata": {
  "kernelspec": {
   "display_name": "Python 3",
   "language": "python",
   "name": "python3"
  },
  "language_info": {
   "codemirror_mode": {
    "name": "ipython",
    "version": 3
   },
   "file_extension": ".py",
   "mimetype": "text/x-python",
   "name": "python",
   "nbconvert_exporter": "python",
   "pygments_lexer": "ipython3",
   "version": "3.7.4"
  }
 },
 "nbformat": 4,
 "nbformat_minor": 2
}
