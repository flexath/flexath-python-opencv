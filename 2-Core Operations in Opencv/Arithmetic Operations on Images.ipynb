{
 "cells": [
  {
   "cell_type": "markdown",
   "metadata": {},
   "source": [
    "## Image Addition"
   ]
  },
  {
   "cell_type": "code",
   "execution_count": 3,
   "metadata": {},
   "outputs": [
    {
     "name": "stdout",
     "output_type": "stream",
     "text": [
      "[[240]]\n",
      "\n",
      "\n",
      "[240]\n"
     ]
    }
   ],
   "source": [
    "import numpy as np\n",
    "import cv2\n",
    "import matplotlib.pyplot as plt\n",
    "x = np.uint8([200])\n",
    "y = np.uint8([40])\n",
    "\n",
    "print(cv2.add(x,y))                       # 250+10 = 260 => 255\n",
    "print(\"\\n\")\n",
    "print(x+y)                                #250+10 = 260 % 256 = 4"
   ]
  },
  {
   "cell_type": "markdown",
   "metadata": {},
   "source": [
    "## Image Blending"
   ]
  },
  {
   "cell_type": "code",
   "execution_count": 8,
   "metadata": {
    "scrolled": true
   },
   "outputs": [
    {
     "name": "stdout",
     "output_type": "stream",
     "text": [
      "151200\n",
      "151200\n",
      "(168, 300, 3)\n",
      "(168, 300, 3)\n"
     ]
    }
   ],
   "source": [
    "import numpy as np\n",
    "import cv2\n",
    "import matplotlib.pyplot as plt\n",
    "\n",
    "imgpath1 =  \"C:\\\\Users\\\\Aung Thiha\\\\imagesforcv2\\\\messi.jpg\"\n",
    "imgpath2 =  \"C:\\\\Users\\\\Aung Thiha\\\\imagesforcv2\\\\roykeane.jpg\"\n",
    "cv2.namedWindow(\"Blending\" , cv2.WINDOW_NORMAL)\n",
    "\n",
    "img1 = cv2.imread(imgpath1)\n",
    "img2 = cv2.imread(imgpath2)\n",
    "print(img1.size)\n",
    "print(img2.size)\n",
    "print(img1.shape)\n",
    "print(img2.shape)\n",
    "# to blend two images\n",
    "# must be the same size and channel number of each two images\n",
    "blend = cv2.addWeighted(img1,0.3,img2,0.9,1)\n",
    "cv2.imshow('Blending',blend)\n",
    "cv2.waitKey(0)\n",
    "cv2.destroyAllWindows()"
   ]
  },
  {
   "cell_type": "markdown",
   "metadata": {},
   "source": [
    "## Bitwise Operations"
   ]
  },
  {
   "cell_type": "code",
   "execution_count": null,
   "metadata": {},
   "outputs": [],
   "source": [
    "# Load two images\n",
    "import numpy as np\n",
    "import cv2\n",
    "import matplotlib.pyplot as plt\n",
    "\n",
    "imgpath1 =  \"C:\\\\Users\\\\Aung Thiha\\\\imagesforcv2\\\\messi.jpg\"\n",
    "imgpath2 =  \"C:\\\\Users\\\\Aung Thiha\\\\imagesforcv2\\\\roykeane.jpg\"\n",
    "cv2.namedWindow(\"Bitwise\" , cv2.WINDOW_NORMAL)\n",
    "\n",
    "img1 = cv2.imread(imgpath1)\n",
    "img2 = cv2.imread(imgpath2)\n",
    "\n",
    "# I want to put logo on top-left corner, So I create a ROI\n",
    "rows,cols,channels = img2.shape\n",
    "roi = img1[0:rows, 0:cols ]\n",
    "\n",
    "# Now create a mask of logo and create its inverse mask also\n",
    "img2gray = cv2.cvtColor(img2,cv2.COLOR_BGR2GRAY)\n",
    "ret, mask = cv2.threshold(img2gray, 10, 255, cv2.THRESH_BINARY)\n",
    "mask_inv = cv2.bitwise_not(mask)\n",
    "\n",
    "# Now black-out the area of logo in ROI\n",
    "img1_bg = cv2.bitwise_and(roi,roi,mask = mask_inv)\n",
    "\n",
    "# Take only region of logo from logo image.\n",
    "img2_fg = cv2.bitwise_and(img2,img2,mask = mask)\n",
    "\n",
    "# Put logo in ROI and modify the main image\n",
    "dst = cv2.add(img1_bg,img2_fg)\n",
    "img1[0:rows, 0:cols ] = dst\n",
    "\n",
    "cv2.imshow('Blending',img1)\n",
    "cv2.imshow('Blending',img2)\n",
    "cv2.waitKey(0)\n",
    "cv2.destroyAllWindows()"
   ]
  },
  {
   "cell_type": "code",
   "execution_count": null,
   "metadata": {},
   "outputs": [],
   "source": []
  }
 ],
 "metadata": {
  "kernelspec": {
   "display_name": "Python 3",
   "language": "python",
   "name": "python3"
  },
  "language_info": {
   "codemirror_mode": {
    "name": "ipython",
    "version": 3
   },
   "file_extension": ".py",
   "mimetype": "text/x-python",
   "name": "python",
   "nbconvert_exporter": "python",
   "pygments_lexer": "ipython3",
   "version": "3.7.4"
  }
 },
 "nbformat": 4,
 "nbformat_minor": 2
}
