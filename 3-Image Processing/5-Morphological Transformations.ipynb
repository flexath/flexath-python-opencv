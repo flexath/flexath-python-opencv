{
 "cells": [
  {
   "cell_type": "markdown",
   "metadata": {},
   "source": [
    "https://vlgiitr.github.io/documentation/Computer_Vision/morph_transformations/\n",
    "    \n",
    "https://opencv-python-tutroals.readthedocs.io/en/latest/py_tutorials/py_imgproc/py_morphological_ops/py_morphological_ops.html"
   ]
  },
  {
   "cell_type": "markdown",
   "metadata": {},
   "source": [
    "## Erosion"
   ]
  },
  {
   "cell_type": "code",
   "execution_count": 3,
   "metadata": {},
   "outputs": [
    {
     "data": {
      "image/png": "[encoded data removed]",
      "text/plain": [
       "<Figure size 432x288 with 2 Axes>"
      ]
     },
     "metadata": {
      "needs_background": "light"
     },
     "output_type": "display_data"
    }
   ],
   "source": [
    "import cv2\n",
    "import numpy as np\n",
    "import matplotlib.pyplot as plt\n",
    "%matplotlib inline\n",
    "\n",
    "filepath = \"C:\\\\Users\\\\Aung Thiha\\\\Computer Vision with Python\\\\Image Data Sets\\\\morpho.png\"\n",
    "\n",
    "#cv2.namedWindow(\"Morphological\",cv2.WINDOW_NORMAL)\n",
    "original_image = cv2.imread(filepath)\n",
    "\n",
    "gray = cv2.cvtColor(original_image,cv2.COLOR_BGR2GRAY)\n",
    "\n",
    "kernel = np.ones((5,5))\n",
    "img = cv2.erode(original_image,kernel,iterations=1)\n",
    "\n",
    "plt.subplot(121),plt.imshow(original_image),plt.title(\"Original Image\")\n",
    "plt.subplot(122),plt.imshow(img),plt.title(\"Erosion Image\")\n",
    "plt.show()\n",
    "\n",
    "#cv2.imshow(\"Morphological\",img)\n",
    "#cv2.waitKey(0)\n",
    "#cv2.destroyAllWindows()"
   ]
  },
  {
   "cell_type": "markdown",
   "metadata": {},
   "source": [
    "## Dilation"
   ]
  },
  {
   "cell_type": "code",
   "execution_count": 28,
   "metadata": {},
   "outputs": [
    {
     "data": {
      "image/png": "[encoded data removed]",
      "text/plain": [
       "<Figure size 432x288 with 1 Axes>"
      ]
     },
     "metadata": {
      "needs_background": "light"
     },
     "output_type": "display_data"
    }
   ],
   "source": [
    "import cv2\n",
    "import numpy as np\n",
    "import matplotlib.pyplot as plt\n",
    "%matplotlib inline\n",
    "\n",
    "filepath = \"C:\\\\Users\\\\Aung Thiha\\\\Computer Vision with Python\\\\Image Data Sets\\\\morpho.png\"\n",
    "\n",
    "#cv2.namedWindow(\"Morphological\",cv2.WINDOW_NORMAL)\n",
    "original_image = cv2.imread(filepath)\n",
    "\n",
    "gray = cv2.cvtColor(original_image,cv2.COLOR_BGR2GRAY)\n",
    "\n",
    "kernel = np.ones((5,5))\n",
    "img = cv2.dilate(original_image,kernel,iterations=1)\n",
    "\n",
    "plt.imshow(img)\n",
    "plt.show()\n",
    "\n",
    "#cv2.imshow(\"Morphological\",img)\n",
    "#cv2.waitKey(0)\n",
    "#cv2.destroyAllWindows()"
   ]
  },
  {
   "cell_type": "markdown",
   "metadata": {},
   "source": [
    "## Opening"
   ]
  },
  {
   "cell_type": "code",
   "execution_count": 29,
   "metadata": {},
   "outputs": [
    {
     "data": {
      "image/png": "[encoded data removed]",
      "text/plain": [
       "<Figure size 432x288 with 1 Axes>"
      ]
     },
     "metadata": {
      "needs_background": "light"
     },
     "output_type": "display_data"
    }
   ],
   "source": [
    "import cv2\n",
    "import numpy as np\n",
    "import matplotlib.pyplot as plt\n",
    "%matplotlib inline\n",
    "\n",
    "filepath = \"C:\\\\Users\\\\Aung Thiha\\\\Computer Vision with Python\\\\Image Data Sets\\\\morpho_noise_open.png\"\n",
    "\n",
    "#cv2.namedWindow(\"Morphological\",cv2.WINDOW_NORMAL)\n",
    "original_image = cv2.imread(filepath)\n",
    "\n",
    "gray = cv2.cvtColor(original_image,cv2.COLOR_BGR2GRAY)\n",
    "\n",
    "kernel = np.ones((5,5))\n",
    "img = cv2.morphologyEx(original_image,cv2.MORPH_OPEN,kernel,iterations=1)\n",
    "\n",
    "plt.imshow(img)\n",
    "plt.show()\n",
    "\n",
    "#cv2.imshow(\"Morphological\",img)\n",
    "#cv2.waitKey(0)\n",
    "#cv2.destroyAllWindows()"
   ]
  },
  {
   "cell_type": "markdown",
   "metadata": {},
   "source": [
    "## Closing"
   ]
  },
  {
   "cell_type": "code",
   "execution_count": 32,
   "metadata": {},
   "outputs": [
    {
     "data": {
      "image/png": "[encoded data removed]",
      "text/plain": [
       "<Figure size 432x288 with 1 Axes>"
      ]
     },
     "metadata": {
      "needs_background": "light"
     },
     "output_type": "display_data"
    }
   ],
   "source": [
    "import cv2\n",
    "import numpy as np\n",
    "import matplotlib.pyplot as plt\n",
    "%matplotlib inline\n",
    "\n",
    "filepath = \"C:\\\\Users\\\\Aung Thiha\\\\Computer Vision with Python\\\\Image Data Sets\\\\morpho_noise_close.png\"\n",
    "\n",
    "#cv2.namedWindow(\"Morphological\",cv2.WINDOW_NORMAL)\n",
    "original_image = cv2.imread(filepath)\n",
    "\n",
    "gray = cv2.cvtColor(original_image,cv2.COLOR_BGR2GRAY)\n",
    "\n",
    "kernel = np.ones((5,5))\n",
    "img = cv2.morphologyEx(original_image,cv2.MORPH_CLOSE,kernel,iterations=1)\n",
    "\n",
    "plt.imshow(img)\n",
    "plt.show()\n",
    "\n",
    "#cv2.imshow(\"Morphological\",img)\n",
    "#cv2.waitKey(0)\n",
    "#cv2.destroyAllWindows()"
   ]
  },
  {
   "cell_type": "markdown",
   "metadata": {},
   "source": [
    "## Gradient"
   ]
  },
  {
   "cell_type": "code",
   "execution_count": 34,
   "metadata": {},
   "outputs": [
    {
     "data": {
      "image/png": "[encoded data removed]",
      "text/plain": [
       "<Figure size 432x288 with 1 Axes>"
      ]
     },
     "metadata": {
      "needs_background": "light"
     },
     "output_type": "display_data"
    }
   ],
   "source": [
    "import cv2\n",
    "import numpy as np\n",
    "import matplotlib.pyplot as plt\n",
    "%matplotlib inline\n",
    "\n",
    "filepath = \"C:\\\\Users\\\\Aung Thiha\\\\Computer Vision with Python\\\\Image Data Sets\\\\morpho.png\"\n",
    "\n",
    "#cv2.namedWindow(\"Morphological\",cv2.WINDOW_NORMAL)\n",
    "original_image = cv2.imread(filepath)\n",
    "\n",
    "gray = cv2.cvtColor(original_image,cv2.COLOR_BGR2GRAY)\n",
    "\n",
    "kernel = np.ones((5,5))\n",
    "img = cv2.morphologyEx(original_image,cv2.MORPH_GRADIENT,kernel,iterations=1)\n",
    "\n",
    "plt.imshow(img)\n",
    "plt.show()\n",
    "\n",
    "#cv2.imshow(\"Morphological\",img)\n",
    "#cv2.waitKey(0)\n",
    "#cv2.destroyAllWindows()"
   ]
  },
  {
   "cell_type": "markdown",
   "metadata": {},
   "source": [
    "## Top Hat"
   ]
  },
  {
   "cell_type": "code",
   "execution_count": 37,
   "metadata": {},
   "outputs": [
    {
     "data": {
      "image/png": "[encoded data removed]",
      "text/plain": [
       "<Figure size 432x288 with 1 Axes>"
      ]
     },
     "metadata": {
      "needs_background": "light"
     },
     "output_type": "display_data"
    }
   ],
   "source": [
    "import cv2\n",
    "import numpy as np\n",
    "import matplotlib.pyplot as plt\n",
    "%matplotlib inline\n",
    "\n",
    "filepath = \"C:\\\\Users\\\\Aung Thiha\\\\Computer Vision with Python\\\\Image Data Sets\\\\morpho.png\"\n",
    "\n",
    "#cv2.namedWindow(\"Morphological\",cv2.WINDOW_NORMAL)\n",
    "original_image = cv2.imread(filepath)\n",
    "\n",
    "gray = cv2.cvtColor(original_image,cv2.COLOR_BGR2GRAY)\n",
    "\n",
    "kernel = np.ones((9,9))\n",
    "img = cv2.morphologyEx(original_image,cv2.MORPH_TOPHAT,kernel,iterations=1)\n",
    "\n",
    "plt.imshow(img)\n",
    "plt.show()\n",
    "\n",
    "#cv2.imshow(\"Morphological\",img)\n",
    "#cv2.waitKey(0)\n",
    "#cv2.destroyAllWindows()"
   ]
  },
  {
   "cell_type": "markdown",
   "metadata": {},
   "source": [
    "## Black Hat"
   ]
  },
  {
   "cell_type": "code",
   "execution_count": 39,
   "metadata": {},
   "outputs": [
    {
     "data": {
      "image/png": "[encoded data removed]",
      "text/plain": [
       "<Figure size 432x288 with 1 Axes>"
      ]
     },
     "metadata": {
      "needs_background": "light"
     },
     "output_type": "display_data"
    }
   ],
   "source": [
    "import cv2\n",
    "import numpy as np\n",
    "import matplotlib.pyplot as plt\n",
    "%matplotlib inline\n",
    "\n",
    "filepath = \"C:\\\\Users\\\\Aung Thiha\\\\Computer Vision with Python\\\\Image Data Sets\\\\morpho.png\"\n",
    "\n",
    "#cv2.namedWindow(\"Morphological\",cv2.WINDOW_NORMAL)\n",
    "original_image = cv2.imread(filepath)\n",
    "\n",
    "gray = cv2.cvtColor(original_image,cv2.COLOR_BGR2GRAY)\n",
    "\n",
    "kernel = np.ones((9,9))\n",
    "img = cv2.morphologyEx(original_image,cv2.MORPH_BLACKHAT,kernel,iterations=1)\n",
    "\n",
    "plt.imshow(img)\n",
    "plt.show()\n",
    "\n",
    "#cv2.imshow(\"Morphological\",img)\n",
    "#cv2.waitKey(0)\n",
    "#cv2.destroyAllWindows()"
   ]
  },
  {
   "cell_type": "markdown",
   "metadata": {},
   "source": [
    "## Structuring Element"
   ]
  },
  {
   "cell_type": "code",
   "execution_count": 49,
   "metadata": {},
   "outputs": [
    {
     "data": {
      "image/png": "[encoded data removed]",
      "text/plain": [
       "<Figure size 432x288 with 1 Axes>"
      ]
     },
     "metadata": {
      "needs_background": "light"
     },
     "output_type": "display_data"
    },
    {
     "data": {
      "image/png": "[encoded data removed]",
      "text/plain": [
       "<Figure size 432x288 with 1 Axes>"
      ]
     },
     "metadata": {
      "needs_background": "light"
     },
     "output_type": "display_data"
    },
    {
     "data": {
      "image/png": "[encoded data removed]",
      "text/plain": [
       "<Figure size 432x288 with 1 Axes>"
      ]
     },
     "metadata": {
      "needs_background": "light"
     },
     "output_type": "display_data"
    },
    {
     "data": {
      "text/plain": [
       "(<matplotlib.image.AxesImage at 0x1cc097375c8>, None)"
      ]
     },
     "execution_count": 49,
     "metadata": {},
     "output_type": "execute_result"
    }
   ],
   "source": [
    "import cv2\n",
    "import numpy as np\n",
    "import matplotlib.pyplot as plt\n",
    "%matplotlib inline\n",
    "\n",
    "filepath = \"C:\\\\Users\\\\Aung Thiha\\\\Computer Vision with Python\\\\Image Data Sets\\\\morpho.png\"\n",
    "\n",
    "#cv2.namedWindow(\"Morphological\",cv2.WINDOW_NORMAL)\n",
    "original_image = cv2.imread(filepath)\n",
    "\n",
    "gray = cv2.cvtColor(original_image,cv2.COLOR_BGR2GRAY)\n",
    "\n",
    "rectangle_kernel = cv2.getStructuringElement(cv2.MORPH_RECT,(5,5))\n",
    "ellipse_kernel = cv2.getStructuringElement(cv2.MORPH_ELLIPSE,(5,5))\n",
    "cross_kernel = cv2.getStructuringElement(cv2.MORPH_CROSS,(5,5))\n",
    "\n",
    "img1 = cv2.morphologyEx(original_image,cv2.MORPH_BLACKHAT,rectangle_kernel,iterations=1)\n",
    "img2 = cv2.morphologyEx(original_image,cv2.MORPH_BLACKHAT,ellipse_kernel,iterations=1)\n",
    "img3 = cv2.morphologyEx(original_image,cv2.MORPH_BLACKHAT,cross_kernel,iterations=1)\n",
    "\n",
    "\n",
    "plt.imshow(img1),plt.show()\n",
    "plt.imshow(img2),plt.show()\n",
    "plt.imshow(img3),plt.show()\n",
    "\n",
    "#cv2.imshow(\"Morphological\",img)\n",
    "#cv2.waitKey(0)\n",
    "#cv2.destroyAllWindows()"
   ]
  }
 ],
 "metadata": {
  "kernelspec": {
   "display_name": "Python 3",
   "language": "python",
   "name": "python3"
  },
  "language_info": {
   "codemirror_mode": {
    "name": "ipython",
    "version": 3
   },
   "file_extension": ".py",
   "mimetype": "text/x-python",
   "name": "python",
   "nbconvert_exporter": "python",
   "pygments_lexer": "ipython3",
   "version": "3.7.6"
  }
 },
 "nbformat": 4,
 "nbformat_minor": 2
}
