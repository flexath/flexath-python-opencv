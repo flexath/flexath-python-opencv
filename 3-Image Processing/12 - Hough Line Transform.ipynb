{
 "cells": [
  {
   "cell_type": "markdown",
   "metadata": {},
   "source": [
    "https://www.youtube.com/watch?v=6yVMpaIoxIU\n",
    "\n",
    "https://www.youtube.com/watch?v=uDB2qGqnQ1g\n",
    "\n",
    "https://www.youtube.com/watch?v=KEYzUP7-kkU"
   ]
  },
  {
   "cell_type": "markdown",
   "metadata": {},
   "source": [
    "# Hough line Transform ( Normal )"
   ]
  },
  {
   "cell_type": "code",
   "execution_count": 5,
   "metadata": {},
   "outputs": [],
   "source": [
    "import cv2\n",
    "import numpy as np\n",
    "\n",
    "cv2.namedWindow(\"Hough Line Transform\",cv2.WINDOW_NORMAL)\n",
    "img = cv2.imread(\"C:\\\\Users\\\\Aung Thiha\\\\Computer Vision with Python\\\\Image Data Sets\\\\line.png\")\n",
    "gray = cv2.cvtColor(img,cv2.COLOR_BGR2GRAY)\n",
    "edges = cv2.Canny(gray,50,150,apertureSize = 3)\n",
    "\n",
    "lines = cv2.HoughLines(edges,1,np.pi/180,50)\n",
    "\n",
    "for rho,theta in lines[0]:\n",
    "    a = np.cos(theta)\n",
    "    b = np.sin(theta)\n",
    "    x0 = np.cos(theta)*rho\n",
    "    y0 = np.sin(theta)*rho\n",
    "    x1 = int(x0 + 1000*(-b))\n",
    "    y1 = int(y0 + 1000*(a))\n",
    "    x2 = int(x0 - 1000*(-b))\n",
    "    y2 = int(y0 - 1000*(a))\n",
    "\n",
    "    cv2.line(img,(x1,y1),(x2,y2),(0,0,255),2)\n",
    "\n",
    "cv2.imshow(\"Hough Line Transform\" , img)\n",
    "cv2.waitKey(0)\n",
    "cv2.destroyAllWindows()"
   ]
  },
  {
   "cell_type": "markdown",
   "metadata": {},
   "source": [
    "# Probabilistic Hough Transform For Images"
   ]
  },
  {
   "cell_type": "markdown",
   "metadata": {},
   "source": [
    "In the hough transform, you can see that even for a line with two arguments, it takes a lot of computation. Probabilistic Hough Transform is an optimization of Hough Transform we saw. It doesn’t take all the points into consideration, instead take only a random subset of points and that is sufficient for line detection. Just we have to decrease the threshold"
   ]
  },
  {
   "cell_type": "code",
   "execution_count": 39,
   "metadata": {},
   "outputs": [
    {
     "name": "stdout",
     "output_type": "stream",
     "text": [
      "[[[ 59 104 206 104]]\n",
      "\n",
      " [[ 59  36 206  36]]\n",
      "\n",
      " [[ 59 106 206 106]]\n",
      "\n",
      " [[ 59  34 206  34]]\n",
      "\n",
      " [[ 59 105  59  35]]\n",
      "\n",
      " [[204 103 204  37]]\n",
      "\n",
      " [[ 61 103  61  37]]\n",
      "\n",
      " [[206 105 206  35]]]\n"
     ]
    }
   ],
   "source": [
    "import cv2\n",
    "import numpy as np\n",
    "\n",
    "cv2.namedWindow(\"Hough Line Transform\",cv2.WINDOW_NORMAL)\n",
    "img = cv2.imread(\"C:\\\\Users\\\\Aung Thiha\\\\Computer Vision with Python\\\\Image Data Sets\\\\line.png\")\n",
    "gray = cv2.cvtColor(img,cv2.COLOR_BGR2GRAY)\n",
    "\n",
    "edge = cv2.Canny(gray,50,150)\n",
    "\n",
    "lines = cv2.HoughLinesP(edge,1,np.pi/180,30,maxLineGap = 200)\n",
    "print(lines)\n",
    "\n",
    "for i in lines:\n",
    "    x1,y1,x2,y2 = i[0]\n",
    "    cv2.line(img,(x1,y1),(x2,y2),(255,0,255),2)\n",
    "\n",
    "cv2.imshow(\"Hough Line Transform\" , img)\n",
    "cv2.waitKey(0)\n",
    "cv2.destroyAllWindows()"
   ]
  }
 ],
 "metadata": {
  "kernelspec": {
   "display_name": "Python 3",
   "language": "python",
   "name": "python3"
  },
  "language_info": {
   "codemirror_mode": {
    "name": "ipython",
    "version": 3
   },
   "file_extension": ".py",
   "mimetype": "text/x-python",
   "name": "python",
   "nbconvert_exporter": "python",
   "pygments_lexer": "ipython3",
   "version": "3.7.6"
  }
 },
 "nbformat": 4,
 "nbformat_minor": 2
}
