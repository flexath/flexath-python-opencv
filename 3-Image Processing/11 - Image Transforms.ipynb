{
 "cells": [
  {
   "cell_type": "markdown",
   "metadata": {},
   "source": [
    "# Fast Fourier Transform with Numpy"
   ]
  },
  {
   "cell_type": "code",
   "execution_count": 1,
   "metadata": {},
   "outputs": [
    {
     "name": "stdout",
     "output_type": "stream",
     "text": [
      "C:\\Users\\Aung Thiha\\Computer Vision with Python\\Image Data Sets\\letters\\character_A\\character_A1.png\n",
      "Hi\n",
      "C:\\Users\\Aung Thiha\\Computer Vision with Python\\Image Data Sets\\letters\\character_A\\character_A2.png\n",
      "Hi\n",
      "C:\\Users\\Aung Thiha\\Computer Vision with Python\\Image Data Sets\\letters\\character_A\\character_A3.png\n",
      "Hi\n"
     ]
    }
   ],
   "source": [
    "import cv2\n",
    "import numpy as np\n",
    "import matplotlib.pyplot as plt\n",
    "import glob\n",
    "\n",
    "filenames = glob.iglob(\"C:\\\\Users\\\\Aung Thiha\\\\Computer Vision with Python\\\\Image Data Sets\\\\letters\\\\character_A\\\\*\")\n",
    "\n",
    "spectrum = []\n",
    "for i in filenames:\n",
    "    print(i)\n",
    "    cv2.namedWindow(i , cv2.WINDOW_NORMAL)\n",
    "    img = cv2.imread(i)\n",
    "    gray = cv2.cvtColor(img, cv2.COLOR_BGR2GRAY)\n",
    "    fft = np.fft.fft2(gray)\n",
    "    shift = np.fft.fftshift(fft)\n",
    "    magnitude_spectrum = 20 * np.log(np.abs(shift))\n",
    "\n",
    "    magnitude_spectrum = np.asarray(magnitude_spectrum, dtype=np.uint8)\n",
    "    img_and_magnitude = np.concatenate((gray, magnitude_spectrum), axis=1)\n",
    "    cv2.imshow(i,img_and_magnitude)\n",
    "    print(\"Hi\")\n",
    "    spectrum.append([magnitude_spectrum])\n",
    "\n",
    "cv2.waitKey(0)\n",
    "cv2.destroyAllWindows()"
   ]
  },
  {
   "cell_type": "markdown",
   "metadata": {},
   "source": [
    "# Inverse Fast Fourier Transform"
   ]
  },
  {
   "cell_type": "code",
   "execution_count": 18,
   "metadata": {},
   "outputs": [
    {
     "name": "stdout",
     "output_type": "stream",
     "text": [
      "C:\\Users\\Aung Thiha\\Computer Vision with Python\\Image Data Sets\\letters\\character_C\\character_C1.png\n",
      "C:\\Users\\Aung Thiha\\Computer Vision with Python\\Image Data Sets\\letters\\character_C\\character_C2.png\n",
      "C:\\Users\\Aung Thiha\\Computer Vision with Python\\Image Data Sets\\letters\\character_C\\character_C3.png\n"
     ]
    }
   ],
   "source": [
    "import cv2\n",
    "import numpy as np\n",
    "import matplotlib.pyplot as plt\n",
    "import glob\n",
    "\n",
    "filenames = glob.iglob(\"C:\\\\Users\\\\Aung Thiha\\\\Computer Vision with Python\\\\Image Data Sets\\\\letters\\\\character_C\\\\*\")\n",
    "\n",
    "spectrum = []\n",
    "for i in filenames:\n",
    "    print(i)\n",
    "    cv2.namedWindow(i , cv2.WINDOW_NORMAL)\n",
    "    img = cv2.imread(i)\n",
    "    gray = cv2.cvtColor(img, cv2.COLOR_BGR2GRAY)\n",
    "    fft = np.fft.fft2(gray)\n",
    "    shift = np.fft.fftshift(fft)\n",
    "\n",
    "    f_ishift = np.fft.ifftshift(shift)\n",
    "    img_back = np.fft.ifft2(f_ishift)\n",
    "    img_back = np.abs(img_back)\n",
    "\n",
    "    magnitude_spectrum = 20 * np.log(np.abs(img_back))\n",
    "\n",
    "    magnitude_spectrum = np.asarray(magnitude_spectrum, dtype=np.uint8)\n",
    "    img_and_magnitude = np.concatenate((gray, magnitude_spectrum), axis=1)\n",
    "    cv2.imshow(i,img_and_magnitude)\n",
    "    spectrum.append(magnitude_spectrum)\n",
    "\n",
    "cv2.waitKey(0)\n",
    "cv2.destroyAllWindows()"
   ]
  }
 ],
 "metadata": {
  "kernelspec": {
   "display_name": "Python 3",
   "language": "python",
   "name": "python3"
  },
  "language_info": {
   "codemirror_mode": {
    "name": "ipython",
    "version": 3
   },
   "file_extension": ".py",
   "mimetype": "text/x-python",
   "name": "python",
   "nbconvert_exporter": "python",
   "pygments_lexer": "ipython3",
   "version": "3.7.4"
  }
 },
 "nbformat": 4,
 "nbformat_minor": 2
}
