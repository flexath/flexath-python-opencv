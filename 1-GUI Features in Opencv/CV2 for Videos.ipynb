{
 "cells": [
  {
   "cell_type": "markdown",
   "metadata": {},
   "source": [
    "# Just Capture video from camera"
   ]
  },
  {
   "cell_type": "markdown",
   "metadata": {},
   "source": [
    "https://docs.opencv.org/2.4/modules/highgui/doc/reading_and_writing_images_and_video.html#videocapture-get"
   ]
  },
  {
   "cell_type": "code",
   "execution_count": 1,
   "metadata": {},
   "outputs": [],
   "source": [
    "import numpy as np\n",
    "import cv2\n",
    "\n",
    "cap = cv2.VideoCapture(0)\n",
    "\n",
    "while(True):\n",
    "    # Capture frame-by-frame\n",
    "    ret, frame = cap.read()\n",
    "\n",
    "    # Our operations on the frame come here\n",
    "    color = cv2.cvtColor(frame, cv2.COLOR_BGR2HLS)\n",
    "    \n",
    "    # Display the resulting frame\n",
    "    cv2.imshow('frame',frame)\n",
    "    k = cv2.waitKey(1) & 0xFF\n",
    "    if  k == 27:\n",
    "        break\n",
    "\n",
    "# When everything done, release the capture\n",
    "cap.release()\n",
    "cv2.destroyAllWindows()"
   ]
  },
  {
   "cell_type": "code",
   "execution_count": null,
   "metadata": {},
   "outputs": [],
   "source": [
    "import cv2\n",
    "flags = [i for i in dir(cv2) if i.startswith('COLOR_')]\n",
    "print(flags)"
   ]
  },
  {
   "cell_type": "markdown",
   "metadata": {},
   "source": [
    "# Playing Video from file"
   ]
  },
  {
   "cell_type": "code",
   "execution_count": 2,
   "metadata": {},
   "outputs": [],
   "source": [
    "import numpy as np\n",
    "import cv2\n",
    "\n",
    "filepath = \"C:\\\\Users\\\\Aung Thiha\\\\Lane Detection\\\\test2.mp4\"\n",
    "cap = cv2.VideoCapture(0)\n",
    "cap.open(filepath)\n",
    "\n",
    "while(cap.isOpened()):\n",
    "    ret, frame = cap.read()\n",
    "\n",
    "    gray = cv2.cvtColor(frame, cv2.COLOR_BGR2GRAY)\n",
    "\n",
    "    cv2.imshow('frame',gray)\n",
    "    if cv2.waitKey(1) & 0xFF == ord('q'):\n",
    "        break\n",
    "\n",
    "cap.release()\n",
    "cv2.destroyAllWindows()"
   ]
  },
  {
   "cell_type": "markdown",
   "metadata": {},
   "source": [
    "# Saving a Video "
   ]
  },
  {
   "cell_type": "code",
   "execution_count": 2,
   "metadata": {},
   "outputs": [],
   "source": [
    "import cv2\n",
    "import numpy\n",
    "\n",
    "cap = cv2.VideoCapture(0)\n",
    "\n",
    "fourcc = cv2.VideoWriter_fourcc(*'XVID')\n",
    "out = cv2.VideoWriter(\"tsw.avi\" , fourcc , 20.0 , (640,480))\n",
    "\n",
    "while(cap.isOpened()):\n",
    "    ret,frame = cap.read()\n",
    "    if ret == True:\n",
    "        frame = cv2.flip(frame , 487)\n",
    "        out.write(frame)\n",
    "        cv2.imshow(\"aungthiha\" , frame)\n",
    "        k = cv2.waitKey(1) & 0xFF\n",
    "        if k == 27:\n",
    "            break\n",
    "    else:\n",
    "        break\n",
    "cap.release()\n",
    "out.release()\n",
    "cv2.destroyAllWindows()"
   ]
  },
  {
   "cell_type": "markdown",
   "metadata": {},
   "source": [
    "# Property Indentify(Resolution) Video"
   ]
  },
  {
   "cell_type": "code",
   "execution_count": 17,
   "metadata": {},
   "outputs": [
    {
     "name": "stdout",
     "output_type": "stream",
     "text": [
      "Width : 640.0\n",
      "Height : 480.0\n",
      "Width : 320.0\n",
      "Height : 240.0\n",
      "30.0\n"
     ]
    }
   ],
   "source": [
    "import cv2\n",
    "import numpy\n",
    "\n",
    "cap = cv2.VideoCapture(0)\n",
    "windownameGray = \"Aung Thiha\"\n",
    "windownameColor = \"Thiri Shun Wai\"\n",
    "\n",
    "print(\"Width : \"  + str(cap.get(3)))\n",
    "print(\"Height : \" + str(cap.get(4)))\n",
    "\n",
    "cap.set(3,300)\n",
    "cap.set(4, 400)\n",
    "    \n",
    "print(\"Width : \" +  str(cap.get(3)))\n",
    "print(\"Height : \" + str(cap.get(4)))\n",
    "\n",
    "while cap.isOpened():\n",
    " \n",
    "    ret,frame = cap.read()\n",
    "    \n",
    "    gray = cv2.cvtColor(frame, cv2.COLOR_BGR2GRAY)\n",
    "    \n",
    "    cv2.imshow(windownameColor , frame)\n",
    "    cv2.imshow(windownameGray , gray)\n",
    "    if cv2.waitKey(1) & 0xFF == 27:\n",
    "        break\n",
    "cap.release()\n",
    "cv2.destroyAllWindows()"
   ]
  },
  {
   "cell_type": "markdown",
   "metadata": {},
   "source": [
    "# Object Tracking by Color"
   ]
  },
  {
   "cell_type": "code",
   "execution_count": 5,
   "metadata": {},
   "outputs": [],
   "source": [
    "import numpy as np\n",
    "import cv2\n",
    "\n",
    "cap = cv2.VideoCapture(0)\n",
    "\n",
    "while(True):\n",
    "    #th = cv2.namedWindow(\"ATH\" , cv2.WINDOW_NORMAL)\n",
    "    # Capture frame-by-frame\n",
    "    ret, frame = cap.read()\n",
    "\n",
    "    # Our operations on the frame come here\n",
    "    hsv = cv2.cvtColor(frame, cv2.COLOR_BGR2HSV)\n",
    "     \n",
    "    #Red Color Range\n",
    "    low = np.array(([165, 170, 130]))\n",
    "    high = np.array(([255, 255, 255]))\n",
    "    \n",
    "    # Blue color\n",
    "    #low = np.array([70, 170, 130])\n",
    "    #high = np.array([160, 255, 255])\n",
    "    \n",
    "    # Green color\n",
    "    #low = np.array([55, 170, 130])\n",
    "    #high = np.array([140, 255, 255])\n",
    "    \n",
    "    # Every color except white\n",
    "    #low = np.array([0, 42, 0])\n",
    "    #high = np.array([179, 255, 255])\n",
    "    \n",
    "    image_mask = cv2.inRange(hsv , low , high)\n",
    "    res = cv2.bitwise_and(frame,frame,mask = image_mask)\n",
    "    \n",
    "    #kernel = np.ones((15,15),np.float32)/225\n",
    "    \n",
    "    #Filter function\n",
    "    #smoothed = cv2.filter2D(res,-1,kernel)\n",
    "    #blur = cv2.GaussianBlur(res,(15,15),0)\n",
    "    median = cv2.medianBlur(res,15)\n",
    "    #bilateral = cv2.bilateralFilter(res,15,75,75)\n",
    "    \n",
    "    \n",
    "    \n",
    "    #cv2.imshow(\"ATH\",frame)\n",
    "    #cv2.imshow(\"Color Check\" , image_mask)\n",
    "    cv2.imshow(\"Color Tracking\" , res)\n",
    "    #cv2.imshow('Gaussian Blurring',blur)\n",
    "    cv2.imshow('Median Blur',median)\n",
    "    #cv2.imshow('bilateral Blur',bilateral)\n",
    "    #cv2.imshow('Smoothed Blur',smoothed)\n",
    "    k = cv2.waitKey(1) & 0xFF\n",
    "    if  k == 27:\n",
    "        break\n",
    "\n",
    "# When everything done, release the capture\n",
    "cap.release()\n",
    "cv2.destroyAllWindows()"
   ]
  },
  {
   "cell_type": "code",
   "execution_count": 6,
   "metadata": {},
   "outputs": [
    {
     "name": "stdout",
     "output_type": "stream",
     "text": [
      "[[[ 60 255 255]]]\n"
     ]
    }
   ],
   "source": [
    "green = np.uint8([[[0,255,0 ]]])\n",
    "hsv_green = cv2.cvtColor(green,cv2.COLOR_BGR2HSV)\n",
    "print(hsv_green)"
   ]
  },
  {
   "cell_type": "markdown",
   "metadata": {},
   "source": [
    "## Blurring and Smoothing"
   ]
  },
  {
   "cell_type": "markdown",
   "metadata": {},
   "source": [
    "https://www.tutorialkart.com/opencv/python/opencv-python-gaussian-image-smoothing/"
   ]
  },
  {
   "cell_type": "code",
   "execution_count": 1,
   "metadata": {},
   "outputs": [],
   "source": [
    "import numpy as np\n",
    "import cv2\n",
    "\n",
    "cap = cv2.VideoCapture(0)\n",
    "\n",
    "while(True):\n",
    "    #th = cv2.namedWindow(\"ATH\" , cv2.WINDOW_NORMAL)\n",
    "    # Capture frame-by-frame\n",
    "    ret, frame = cap.read()\n",
    "\n",
    "    # Our operations on the frame come here\n",
    "    hsv = cv2.cvtColor(frame, cv2.COLOR_BGR2HSV_FULL)\n",
    "     \n",
    "    #Red Color Range\n",
    "    low = np.array(([165, 170, 130]))\n",
    "    high = np.array(([255, 255, 255]))\n",
    "    \n",
    "    # Blue color\n",
    "    #low = np.array([70, 170, 130])\n",
    "    #high = np.array([160, 255, 255])\n",
    "    \n",
    "    # Green color\n",
    "    #low = np.array([55, 170, 130])\n",
    "    #high = np.array([140, 255, 255])\n",
    "    \n",
    "    # Every color except white\n",
    "    #low = np.array([0, 42, 0])\n",
    "    #high = np.array([179, 255, 255])\n",
    "    \n",
    "    image_mask = cv2.inRange(hsv , low , high)\n",
    "    res = cv2.bitwise_and(frame,frame,mask = image_mask)\n",
    "    \n",
    "    kernel = np.ones((15,15),np.float32)/225\n",
    "    \n",
    "    #Filter function\n",
    "    smoothed = cv2.filter2D(res,-1,kernel)\n",
    "    blur = cv2.GaussianBlur(res,(15,15),0)\n",
    "    median = cv2.medianBlur(res,15)\n",
    "    bilateral = cv2.bilateralFilter(res,15,75,75)\n",
    "    \n",
    "    \n",
    "    \n",
    "    cv2.imshow(\"ATH\",frame)\n",
    "    #cv2.imshow(\"Color Check\" , image_mask)\n",
    "    cv2.imshow(\"Color Tracking\" , res)\n",
    "    #cv2.imshow('Smoothed Blur',smoothed)\n",
    "    #cv2.imshow('Gaussian Blurring',blur)\n",
    "    cv2.imshow('Median Blur',median)\n",
    "    #cv2.imshow('bilateral Blur',bilateral)\n",
    "    \n",
    "    k = cv2.waitKey(1) & 0xFF\n",
    "    if  k == 27:\n",
    "        break\n",
    "\n",
    "# When everything done, release the capture\n",
    "cap.release()\n",
    "cv2.destroyAllWindows()"
   ]
  },
  {
   "cell_type": "markdown",
   "metadata": {},
   "source": [
    "## Morphological Transformation"
   ]
  },
  {
   "cell_type": "code",
   "execution_count": 1,
   "metadata": {},
   "outputs": [],
   "source": [
    "import numpy as np\n",
    "import cv2\n",
    "\n",
    "cap = cv2.VideoCapture(0)\n",
    "\n",
    "while(True):\n",
    "    ret, frame = cap.read()\n",
    "    hsv = cv2.cvtColor(frame, cv2.COLOR_BGR2HSV_FULL)\n",
    "     \n",
    "    #Red Color Range\n",
    "    low = np.array(([165, 170, 130]))\n",
    "    high = np.array(([255, 255, 255]))\n",
    "    \n",
    "    \n",
    "    image_mask = cv2.inRange(hsv , low , high)\n",
    "    res = cv2.bitwise_and(frame,frame,mask = image_mask)\n",
    "    \n",
    "    kernel = np.ones((5,5) , np.uint8)\n",
    "    erosion = cv2.erode(res,kernel,iterations = 1)\n",
    "    dilation = cv2.dilate(res,kernel,iterations = 1)\n",
    "    \n",
    "    #Opening is just another name of erosion followed by dilation\n",
    "    opening = cv2.morphologyEx(res, cv2.MORPH_OPEN, kernel)\n",
    "    \n",
    "    #Closing is reverse of Opening, Dilation followed by Erosion\n",
    "    closing = cv2.morphologyEx(res, cv2.MORPH_CLOSE, kernel)\n",
    "    \n",
    "    cv2.imshow(\"ATH\",frame)\n",
    "    #cv2.imshow(\"Color Check\" , image_mask)\n",
    "    #cv2.imshow(\"Color Tracking\" , res)\n",
    "    \n",
    "    #cv2.imshow(\"Erosion\" , erosion)\n",
    "    #cv2.imshow(\"Dilation\" , dilation)\n",
    "    cv2.imshow(\"opening\" , opening)\n",
    "    cv2.imshow(\"closing\" , closing)\n",
    "    \n",
    "    \n",
    "    k = cv2.waitKey(1) & 0xFF\n",
    "    if  k == 27:\n",
    "        break\n",
    "\n",
    "# When everything done, release the capture\n",
    "cap.release()\n",
    "cv2.destroyAllWindows()"
   ]
  },
  {
   "cell_type": "markdown",
   "metadata": {},
   "source": [
    "## Edge Detection and Gradients"
   ]
  },
  {
   "cell_type": "code",
   "execution_count": 10,
   "metadata": {},
   "outputs": [],
   "source": [
    "import numpy as np\n",
    "import cv2\n",
    "\n",
    "cap = cv2.VideoCapture(0)\n",
    "\n",
    "while(True):\n",
    "    #th = cv2.namedWindow(\"ATH\" , cv2.WINDOW_NORMAL)\n",
    "    # Capture frame-by-frame\n",
    "    ret, frame = cap.read()\n",
    "    cv2.namedWindow(\"Canny\" , cv2.WINDOW_NORMAL)\n",
    "    \n",
    "    laplacian = cv2.Laplacian(frame , cv2.CV_64F)\n",
    "    sobelx = cv2.Sobel(frame , cv2.CV_64F , 1 , 0 , ksize = 5)\n",
    "    sobely = cv2.Sobel(frame , cv2.CV_64F , 0 , 1 , ksize = 5)\n",
    "    edge = cv2.Canny(frame , 100 , 180)\n",
    "    \n",
    "    \n",
    "    #cv2.imshow('Original ' , frame)\n",
    "    #cv2.imshow('Laplacian',laplacian)\n",
    "    #cv2.imshow('sobelx',sobelx)\n",
    "    #cv2.imshow('sobely',sobely)\n",
    "    cv2.imshow('Canny',edge)\n",
    "    \n",
    "    \n",
    "    k = cv2.waitKey(1) & 0xFF\n",
    "    if  k == 27:\n",
    "        break\n",
    "\n",
    "# When everything done, release the capture\n",
    "cap.release()\n",
    "cv2.destroyAllWindows()"
   ]
  },
  {
   "cell_type": "markdown",
   "metadata": {},
   "source": [
    "## MOG Background Reduction"
   ]
  },
  {
   "cell_type": "code",
   "execution_count": 1,
   "metadata": {},
   "outputs": [],
   "source": [
    "import cv2\n",
    "import numpy as np\n",
    "import matplotlib.pyplot as plt\n",
    "\n",
    "cap = cv2.VideoCapture(0)\n",
    "fgbg = cv2.createBackgroundSubtractorMOG2()\n",
    "while(True):\n",
    "    ret, frame = cap.read()\n",
    "    \n",
    "    fgmask = fgbg.apply(frame)\n",
    "    \n",
    "    cv2.imshow('Original',frame)\n",
    "    cv2.imshow('MOG',fgmask)\n",
    "    \n",
    "    \n",
    "    k = cv2.waitKey(1) & 0xFF\n",
    "    if  k == 27:\n",
    "        break\n",
    "\n",
    "# When everything done, release the capture\n",
    "cap.release()\n",
    "cv2.destroyAllWindows()"
   ]
  },
  {
   "cell_type": "code",
   "execution_count": null,
   "metadata": {},
   "outputs": [],
   "source": []
  }
 ],
 "metadata": {
  "kernelspec": {
   "display_name": "Python 3",
   "language": "python",
   "name": "python3"
  },
  "language_info": {
   "codemirror_mode": {
    "name": "ipython",
    "version": 3
   },
   "file_extension": ".py",
   "mimetype": "text/x-python",
   "name": "python",
   "nbconvert_exporter": "python",
   "pygments_lexer": "ipython3",
   "version": "3.7.4"
  }
 },
 "nbformat": 4,
 "nbformat_minor": 2
}
