{
 "cells": [
  {
   "cell_type": "markdown",
   "metadata": {},
   "source": [
    "# Code Demo"
   ]
  },
  {
   "cell_type": "code",
   "execution_count": 3,
   "metadata": {},
   "outputs": [],
   "source": [
    "import cv2\n",
    "import numpy as np\n",
    "\n",
    "def nothing(x):\n",
    "    pass\n",
    "\n",
    "\n",
    "img = np.zeros((512,512,3), np.uint8)\n",
    "cv2.namedWindow('Color Palette')\n",
    "cv2.createTrackbar('B','Color Palette',0,255,nothing)\n",
    "cv2.createTrackbar('G','Color Palette',0,255,nothing)\n",
    "cv2.createTrackbar('R','Color Palette',0,255,nothing)\n",
    "cv2.createTrackbar('0 : OFF \\n1 : ON', 'Color Palette',0,1,nothing)\n",
    "\n",
    "while(True):\n",
    "    cv2.imshow('Color Palette',img)\n",
    "    \n",
    "    r = cv2.getTrackbarPos('B','Color Palette')\n",
    "    g = cv2.getTrackbarPos('G','Color Palette')\n",
    "    b = cv2.getTrackbarPos('R','Color Palette')\n",
    "    s = cv2.getTrackbarPos('0 : OFF \\n1 : ON','Color Palette')\n",
    "    \n",
    "    k = cv2.waitKey(1) & 0xFF\n",
    "    if k == 27:\n",
    "        break\n",
    "    if s == 0:\n",
    "        img[:] = 0\n",
    "    else:\n",
    "        img[:] = [r,g,b]\n",
    "\n",
    "cv2.destroyAllWindows()"
   ]
  },
  {
   "cell_type": "code",
   "execution_count": null,
   "metadata": {},
   "outputs": [],
   "source": []
  }
 ],
 "metadata": {
  "kernelspec": {
   "display_name": "Python 3",
   "language": "python",
   "name": "python3"
  },
  "language_info": {
   "codemirror_mode": {
    "name": "ipython",
    "version": 3
   },
   "file_extension": ".py",
   "mimetype": "text/x-python",
   "name": "python",
   "nbconvert_exporter": "python",
   "pygments_lexer": "ipython3",
   "version": "3.7.3"
  }
 },
 "nbformat": 4,
 "nbformat_minor": 2
}
